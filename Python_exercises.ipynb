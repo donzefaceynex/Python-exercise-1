{
  "nbformat": 4,
  "nbformat_minor": 0,
  "metadata": {
    "colab": {
      "name": "Python.exercises",
      "provenance": []
    },
    "kernelspec": {
      "name": "python3",
      "display_name": "Python 3"
    },
    "language_info": {
      "name": "python"
    }
  },
  "cells": [
    {
      "cell_type": "markdown",
      "source": [
        "Dictionaries\n",
        "\n",
        "a dictionary is a collection which is:\n",
        "\n",
        "unordered,\n",
        "changeable and\n",
        "indexed\n",
        "in Python dictionaries are written with curly brackets\n",
        "\n",
        "inside, they have keys-value pairs"
      ],
      "metadata": {
        "id": "fFYAzeugMiFt"
      }
    },
    {
      "cell_type": "code",
      "source": [
        "# create dictionary \n",
        "car_info_dict = {\n",
        "  \"brand\": \"Ford\", # key-value pair #1\n",
        "  \"model\": \"Mustang\", # key-value pair #2\n",
        "  \"year\": 1964 # key-value pair #3\n",
        "}\n",
        "\n",
        "# print dictionary\n",
        "print(car_info_dict)"
      ],
      "metadata": {
        "colab": {
          "base_uri": "https://localhost:8080/"
        },
        "id": "upDJfYxZMj8h",
        "outputId": "a8282cf7-a212-4d87-86ec-54975e6b67ec"
      },
      "execution_count": null,
      "outputs": [
        {
          "output_type": "stream",
          "name": "stdout",
          "text": [
            "{'brand': 'Ford', 'model': 'Mustang', 'year': 1964}\n"
          ]
        }
      ]
    },
    {
      "cell_type": "markdown",
      "source": [
        "Accessing Values\n",
        "\n",
        "access the values of a dictionary by referring to its key name inside square brackets:"
      ],
      "metadata": {
        "id": "YokAu2j3MkOR"
      }
    },
    {
      "cell_type": "code",
      "source": [
        "# get the value of the \"model\" key\n",
        "model_value = car_info_dict[\"model\"]\n",
        "\n",
        "# print the value\n",
        "print(model_value)"
      ],
      "metadata": {
        "colab": {
          "base_uri": "https://localhost:8080/"
        },
        "id": "cWfu7UJwMkbO",
        "outputId": "9357bd5c-1b42-4c71-aa5c-f4d9e6b3bc34"
      },
      "execution_count": null,
      "outputs": [
        {
          "output_type": "stream",
          "name": "stdout",
          "text": [
            "Mustang\n"
          ]
        }
      ]
    },
    {
      "cell_type": "markdown",
      "source": [
        "Loop Through a Dictionary\n",
        "\n",
        "loop through a dictionary by using a \"for\" loop\n",
        "Print all key names in the dictionary, one by one"
      ],
      "metadata": {
        "id": "zw7stOSTMkrt"
      }
    },
    {
      "cell_type": "code",
      "source": [
        "# print only the keys of the dictionary\n",
        "for entry in car_info_dict:\n",
        "  print(entry)"
      ],
      "metadata": {
        "colab": {
          "base_uri": "https://localhost:8080/"
        },
        "id": "oG5mDG34Mk13",
        "outputId": "2b63b0da-6eb9-42dc-c24b-08523059d97c"
      },
      "execution_count": null,
      "outputs": [
        {
          "output_type": "stream",
          "name": "stdout",
          "text": [
            "brand\n",
            "model\n",
            "year\n"
          ]
        }
      ]
    },
    {
      "cell_type": "markdown",
      "source": [
        "Objected Oriented Python Topics\n",
        "\n",
        "Objects and Classes\n",
        "\n",
        "Inheritance\n",
        "\n",
        "Encapsulation\n",
        "\n",
        "Abstract Classes\n",
        "\n",
        "Interfaces\n",
        "\n",
        "Object Oriented Programming is a paradigm of programming used to represent real-world objects in programs.\n",
        "\n",
        "Real-world objects have certain properties and behaviours. These are modelled with Classes and Objects in Python.\n",
        "\n",
        "Properties or Data Fields capture the state of real-world objects and Methods capture the behavior of real-world objects\n",
        "\n",
        "Objects and Classes\n",
        "\n",
        "Classes and Objects are the two main aspects of Object Oriented Programming (OOP)\n",
        "\n",
        "A class creates a new type (remember data types?)\n",
        "\n",
        "where objects are instances of the class type"
      ],
      "metadata": {
        "id": "jW0dfUTfMlAE"
      }
    },
    {
      "cell_type": "code",
      "source": [
        "# create an empty class called `Person`\n",
        "# (NOTE: class names always begin with a capital letter!)\n",
        "class Person:\n",
        "    pass # empty block\n",
        "\n",
        "# Create object `p` from class `Person`\n",
        "p = Person()\n",
        "\n",
        "# Print `p` \n",
        "print(p)"
      ],
      "metadata": {
        "colab": {
          "base_uri": "https://localhost:8080/"
        },
        "id": "RzDGpYosMlJM",
        "outputId": "cd4238c0-b78b-4581-cdd0-696a4ce42ca1"
      },
      "execution_count": null,
      "outputs": [
        {
          "output_type": "stream",
          "name": "stdout",
          "text": [
            "<__main__.Person object at 0x7f452668c5d0>\n"
          ]
        }
      ]
    },
    {
      "cell_type": "markdown",
      "source": [
        "Methods\n",
        " `\n",
        "p.say_hi()\n",
        "Notice that the say_hi method takes no parameters when calling it in the object\n",
        "\n",
        "but still has the self in the class function definition\n",
        "self keyword\n",
        "\n",
        "Class methods have only one specific difference from ordinary functions\n",
        "they must have an extra first parameter that has to be added to the beginning of the parameter list\n",
        "by convention, it is given the name self.\n",
        "do not give a value for this parameter when you call the method\n",
        "Python will automatically provide it\n",
        "this particular variable refers to the object itself\n",
        "Data Fields\n",
        "\n",
        "we have already discussed the functionality part of classes and objects (i.e. methods),\n",
        "\n",
        "now let us learn about the data part.\n",
        "the data part, i.e. fields, are nothing but ordinary variables that are bound to the namespaces of the classes and objects\n",
        "\n",
        "recall scope of variables in functions, this works similar to that, but at class and object levels\n",
        "__init__ method: the constructor function\n",
        "\n",
        "There are many method names which have special significance in Python classes\n",
        "\n",
        "We will see the significance of the __init__ method\n",
        "\n",
        "The __init__ method is run as soon as an object of a class is instantiated (i.e. created)\n",
        "\n",
        "The method is useful to do any initialization you want to do with your object\n",
        "\n",
        "i.e. passing initial values to your object variables"
      ],
      "metadata": {
        "id": "YzSlyR94MlSJ"
      }
    },
    {
      "cell_type": "code",
      "source": [
        "# create a class called `Person`\n",
        "class Person:\n",
        "    # create a new built in method called say_hi\n",
        "    def say_hi(self):\n",
        "        print('Hello, how are you?')\n",
        "\n",
        " "
      ],
      "metadata": {
        "id": "lSYt0OIpMlb5"
      },
      "execution_count": null,
      "outputs": []
    },
    {
      "cell_type": "markdown",
      "source": [
        "The variables under the __init__ function have to be passed as arugments when creating the object from the class\n",
        "\n",
        "When creating new instance p, of the class Person\n",
        "\n",
        "we do so by using the class name, followed by the arguments in the parentheses\n",
        "We define the __init__ method as taking a parameter name\n",
        "\n",
        "We do not explicitly call the init method, this is the special significance of this method\n",
        "self.name means that there is something called \"name\" that is part of the object called \"self\"\n",
        "\n",
        "the other name is a local variable\n"
      ],
      "metadata": {
        "id": "c7H7ne5UMlkW"
      }
    },
    {
      "cell_type": "code",
      "source": [
        "# create Class called `Person`\n",
        "class Person:\n",
        "    \n",
        "    # create the __init__ constructor function \n",
        "    def __init__(self,name):\n",
        "        self.name = name # object variable\n",
        "    \n",
        "    # create method called say_hi\n",
        "    # this will be a built-in function for this class `Person`\n",
        "    def say_hi(self):\n",
        "        print('Hello, my name is ', self.name)\n",
        "\n",
        "# instatiate an object `p` from class `Person`\n",
        "# remember to input the `name` as Class argument\n",
        "p = Person('Jill')\n",
        "\n",
        "# call built-in method\n",
        "p.say_hi()"
      ],
      "metadata": {
        "colab": {
          "base_uri": "https://localhost:8080/"
        },
        "id": "quaAEaCDMltG",
        "outputId": "edc9c687-9ff9-4e2c-c299-6bd29056d6a9"
      },
      "execution_count": null,
      "outputs": [
        {
          "output_type": "stream",
          "name": "stdout",
          "text": [
            "Hello, my name is  Jill\n"
          ]
        }
      ]
    },
    {
      "cell_type": "markdown",
      "source": [
        "Robot Class Example\n",
        "\n",
        "it is important to learn classes and objects with examples\n",
        "\n",
        "so we will look at a Robot class example\n",
        "We define a Robot class with the following attributes:\n",
        "\n",
        "Class Variables:\n",
        "population: keeps count of the number of objects instantiated from the class\n",
        "Class Function:\n",
        "how_many: returns the current number of robots\n",
        "Properties:\n",
        "name: object varible that hold the name of the current robot\n",
        "Methods:\n",
        "say_hi: robot says hi\n",
        "die: robot gets terminated and updates the number of total robots"
      ],
      "metadata": {
        "id": "jIwdWw81Ml1W"
      }
    },
    {
      "cell_type": "code",
      "source": [
        "# Docstrings Example\n",
        "\n",
        "def is_even(num):\n",
        "  # Docstring\n",
        "  \"\"\"\n",
        "  Input: an integer\n",
        "  Output: if input is even (True for even, False for not)\n",
        "  \"\"\"\n",
        "  return num % 2 == 0\n",
        "\n",
        "help(is_even)"
      ],
      "metadata": {
        "colab": {
          "base_uri": "https://localhost:8080/"
        },
        "id": "SEmjZKCcPNXo",
        "outputId": "f83ef250-80c3-4f8b-bdf0-8e3b4355dadf"
      },
      "execution_count": null,
      "outputs": [
        {
          "output_type": "stream",
          "name": "stdout",
          "text": [
            "Help on function is_even in module __main__:\n",
            "\n",
            "is_even(num)\n",
            "    Input: an integer\n",
            "    Output: if input is even (True for even, False for not)\n",
            "\n"
          ]
        }
      ]
    },
    {
      "cell_type": "markdown",
      "source": [
        "Inheritance\n",
        "\n",
        "a major benefit of OOP is reuse of code\n",
        "\n",
        "one way this is achieved is through inheritance mechanism\n",
        "inheritance can be best imagined as implementing a type (parent class) and subtype (child class) relationship between classes\n",
        "\n",
        "Inheritance Schematic\n",
        "\n",
        "School Members Example\n",
        "\n",
        "Problem Statement:\n",
        "\n",
        "suppose you want to write a program for a college which has to keep track of\n",
        "\n",
        "teachers\n",
        "students\n",
        "they both have some common characteristics such as\n",
        "\n",
        "name,\n",
        "age and\n",
        "address\n",
        "they also have specific characteristics such as\n",
        "\n",
        "for teachers\n",
        "salary\n",
        "courses\n",
        "leaves\n",
        "for students\n",
        "marks\n",
        "fees\n",
        "Solution Strategy:\n",
        "\n",
        "independent classes\n",
        "\n",
        "you can create two independent classes for each type (teachers and students), but adding a new common characteristic would mean adding to both of these independent classes\n",
        "this quickly becomes unwieldy\n",
        "inherited classes\n",
        "\n",
        "a better way would be to create a common class called SchoolMember and then have the teacher and student classes inherit from this class\n",
        "\n",
        "i.e. they will become sub-types (child classes) of this type (parent class) and then we can add specific characteristics to these sub-types\n",
        "there are many advantages to this approach\n",
        "\n",
        "if we add/change any functionality in SchoolMember, this is automatically reflected in the subtypes as well\n",
        "\n",
        "for example, you can add a new ID card field for both teachers and students by simply adding it to the SchoolMember class\n",
        "however, changes in one subtype (child class) does not affect other subtype (child class)\n",
        "another advantage is that you can refer to a teacher or student object as a SchoolMember object which could be useful in some situations such as counting of the number of school members\n",
        "\n",
        "this is called polymorphism where a sub-type can be substituted in any situation where a parent type is expected,\n",
        "i.e. the object can be treated as an instance of the parent class.\n",
        "also observe that we reuse the code of the parent class and we do not need to repeat it in the child classes as we would have had to in case we had used independent classes\n",
        "\n",
        "the SchoolMember class in this situation is known as the base class, parent class or the superclass.\n",
        "\n",
        "the Teacher and Student classes are called the derived classes, child class or subclasses\n"
      ],
      "metadata": {
        "id": "fwCW8gB9PhYj"
      }
    },
    {
      "cell_type": "markdown",
      "source": [
        "Reading Files\n",
        "\n",
        "use the built-in open function\n",
        "\n",
        "a file object has to be created first\n",
        "then obtain data from file\n",
        "we are using a text file in our example here\n",
        "\n",
        "open and close methods"
      ],
      "metadata": {
        "id": "mDpO9Op0T7hY"
      }
    },
    {
      "cell_type": "code",
      "source": [
        "file_path = \"/content/drive/My Drive/Colab Notebooks/Machine_Learning_AI.txt\""
      ],
      "metadata": {
        "id": "mVJRZcxmUD96"
      },
      "execution_count": null,
      "outputs": []
    },
    {
      "cell_type": "markdown",
      "source": [
        "Additional Learning\n",
        "\n",
        "research more about file object methods\n",
        "see help for syntax\n",
        "i.e. help(file)"
      ],
      "metadata": {
        "id": "OgNPp63tUs8R"
      }
    },
    {
      "cell_type": "code",
      "source": [
        " help(open)"
      ],
      "metadata": {
        "colab": {
          "base_uri": "https://localhost:8080/"
        },
        "id": "labuPfs0Utc4",
        "outputId": "1ea9ffbc-95df-425a-b072-011db8af4848"
      },
      "execution_count": null,
      "outputs": [
        {
          "output_type": "stream",
          "name": "stdout",
          "text": [
            "Help on built-in function open in module io:\n",
            "\n",
            "open(file, mode='r', buffering=-1, encoding=None, errors=None, newline=None, closefd=True, opener=None)\n",
            "    Open file and return a stream.  Raise OSError upon failure.\n",
            "    \n",
            "    file is either a text or byte string giving the name (and the path\n",
            "    if the file isn't in the current working directory) of the file to\n",
            "    be opened or an integer file descriptor of the file to be\n",
            "    wrapped. (If a file descriptor is given, it is closed when the\n",
            "    returned I/O object is closed, unless closefd is set to False.)\n",
            "    \n",
            "    mode is an optional string that specifies the mode in which the file\n",
            "    is opened. It defaults to 'r' which means open for reading in text\n",
            "    mode.  Other common values are 'w' for writing (truncating the file if\n",
            "    it already exists), 'x' for creating and writing to a new file, and\n",
            "    'a' for appending (which on some Unix systems, means that all writes\n",
            "    append to the end of the file regardless of the current seek position).\n",
            "    In text mode, if encoding is not specified the encoding used is platform\n",
            "    dependent: locale.getpreferredencoding(False) is called to get the\n",
            "    current locale encoding. (For reading and writing raw bytes use binary\n",
            "    mode and leave encoding unspecified.) The available modes are:\n",
            "    \n",
            "    ========= ===============================================================\n",
            "    Character Meaning\n",
            "    --------- ---------------------------------------------------------------\n",
            "    'r'       open for reading (default)\n",
            "    'w'       open for writing, truncating the file first\n",
            "    'x'       create a new file and open it for writing\n",
            "    'a'       open for writing, appending to the end of the file if it exists\n",
            "    'b'       binary mode\n",
            "    't'       text mode (default)\n",
            "    '+'       open a disk file for updating (reading and writing)\n",
            "    'U'       universal newline mode (deprecated)\n",
            "    ========= ===============================================================\n",
            "    \n",
            "    The default mode is 'rt' (open for reading text). For binary random\n",
            "    access, the mode 'w+b' opens and truncates the file to 0 bytes, while\n",
            "    'r+b' opens the file without truncation. The 'x' mode implies 'w' and\n",
            "    raises an `FileExistsError` if the file already exists.\n",
            "    \n",
            "    Python distinguishes between files opened in binary and text modes,\n",
            "    even when the underlying operating system doesn't. Files opened in\n",
            "    binary mode (appending 'b' to the mode argument) return contents as\n",
            "    bytes objects without any decoding. In text mode (the default, or when\n",
            "    't' is appended to the mode argument), the contents of the file are\n",
            "    returned as strings, the bytes having been first decoded using a\n",
            "    platform-dependent encoding or using the specified encoding if given.\n",
            "    \n",
            "    'U' mode is deprecated and will raise an exception in future versions\n",
            "    of Python.  It has no effect in Python 3.  Use newline to control\n",
            "    universal newlines mode.\n",
            "    \n",
            "    buffering is an optional integer used to set the buffering policy.\n",
            "    Pass 0 to switch buffering off (only allowed in binary mode), 1 to select\n",
            "    line buffering (only usable in text mode), and an integer > 1 to indicate\n",
            "    the size of a fixed-size chunk buffer.  When no buffering argument is\n",
            "    given, the default buffering policy works as follows:\n",
            "    \n",
            "    * Binary files are buffered in fixed-size chunks; the size of the buffer\n",
            "      is chosen using a heuristic trying to determine the underlying device's\n",
            "      \"block size\" and falling back on `io.DEFAULT_BUFFER_SIZE`.\n",
            "      On many systems, the buffer will typically be 4096 or 8192 bytes long.\n",
            "    \n",
            "    * \"Interactive\" text files (files for which isatty() returns True)\n",
            "      use line buffering.  Other text files use the policy described above\n",
            "      for binary files.\n",
            "    \n",
            "    encoding is the name of the encoding used to decode or encode the\n",
            "    file. This should only be used in text mode. The default encoding is\n",
            "    platform dependent, but any encoding supported by Python can be\n",
            "    passed.  See the codecs module for the list of supported encodings.\n",
            "    \n",
            "    errors is an optional string that specifies how encoding errors are to\n",
            "    be handled---this argument should not be used in binary mode. Pass\n",
            "    'strict' to raise a ValueError exception if there is an encoding error\n",
            "    (the default of None has the same effect), or pass 'ignore' to ignore\n",
            "    errors. (Note that ignoring encoding errors can lead to data loss.)\n",
            "    See the documentation for codecs.register or run 'help(codecs.Codec)'\n",
            "    for a list of the permitted encoding error strings.\n",
            "    \n",
            "    newline controls how universal newlines works (it only applies to text\n",
            "    mode). It can be None, '', '\\n', '\\r', and '\\r\\n'.  It works as\n",
            "    follows:\n",
            "    \n",
            "    * On input, if newline is None, universal newlines mode is\n",
            "      enabled. Lines in the input can end in '\\n', '\\r', or '\\r\\n', and\n",
            "      these are translated into '\\n' before being returned to the\n",
            "      caller. If it is '', universal newline mode is enabled, but line\n",
            "      endings are returned to the caller untranslated. If it has any of\n",
            "      the other legal values, input lines are only terminated by the given\n",
            "      string, and the line ending is returned to the caller untranslated.\n",
            "    \n",
            "    * On output, if newline is None, any '\\n' characters written are\n",
            "      translated to the system default line separator, os.linesep. If\n",
            "      newline is '' or '\\n', no translation takes place. If newline is any\n",
            "      of the other legal values, any '\\n' characters written are translated\n",
            "      to the given string.\n",
            "    \n",
            "    If closefd is False, the underlying file descriptor will be kept open\n",
            "    when the file is closed. This does not work when a file name is given\n",
            "    and must be True in that case.\n",
            "    \n",
            "    A custom opener can be used by passing a callable as *opener*. The\n",
            "    underlying file descriptor for the file object is then obtained by\n",
            "    calling *opener* with (*file*, *flags*). *opener* must return an open\n",
            "    file descriptor (passing os.open as *opener* results in functionality\n",
            "    similar to passing None).\n",
            "    \n",
            "    open() returns a file object whose type depends on the mode, and\n",
            "    through which the standard file operations such as reading and writing\n",
            "    are performed. When open() is used to open a file in a text mode ('w',\n",
            "    'r', 'wt', 'rt', etc.), it returns a TextIOWrapper. When used to open\n",
            "    a file in a binary mode, the returned class varies: in read binary\n",
            "    mode, it returns a BufferedReader; in write binary and append binary\n",
            "    modes, it returns a BufferedWriter, and in read/write mode, it returns\n",
            "    a BufferedRandom.\n",
            "    \n",
            "    It is also possible to use a string or bytearray as a file for both\n",
            "    reading and writing. For strings StringIO can be used like a file\n",
            "    opened in a text mode, and for bytes a BytesIO can be used like a file\n",
            "    opened in a binary mode.\n",
            "\n"
          ]
        }
      ]
    }
  ]
}